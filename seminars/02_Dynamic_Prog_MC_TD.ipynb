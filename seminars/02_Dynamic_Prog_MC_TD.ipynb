{
  "cells": [
    {
      "cell_type": "markdown",
      "source": [
        "# Семинар 2. Динамическое программирование. Монте-Карло и Временные различия\n",
        "\n",
        "Мы рассмотрим несколько способов вычисления функций полезности и стратегии в модельном и безмодельном подходах.\n",
        "В этом семинаре подробнее разберемся в функциях полезности и как их можно получить.\n",
        "\n",
        "## Содержание:\n",
        "\n",
        "1. [Теоретическое напоминание](#theory)\n",
        "2. [Итерации по стратегиям](#pi)\n",
        "3. [Итерации по полезностям](#vi)\n",
        "4. [Монте-Карло оценка](#mc)\n",
        "5. [Временные различия](#td)"
      ],
      "metadata": {
        "id": "Pp7oegpV2Dr2"
      },
      "id": "Pp7oegpV2Dr2"
    },
    {
      "cell_type": "code",
      "source": [
        "# @title Импортирование зависимостей, реализация MDP и среды FrozenLake\n",
        "\n",
        "from IPython.display import HTML\n",
        "from IPython.display import clear_output\n",
        "from time import sleep\n",
        "\n",
        "# most of this code was politely stolen from https://github.com/berkeleydeeprlcourse/homework/\n",
        "# all creadit goes to https://github.com/abhishekunique (if i got the author right)\n",
        "import sys\n",
        "import random\n",
        "import numpy as np\n",
        "import matplotlib as mpl\n",
        "import matplotlib.pyplot as plt\n",
        "from matplotlib.patches import FancyBboxPatch, Circle\n",
        "%matplotlib inline\n",
        "\n",
        "def weighted_choice(v, p):\n",
        "   total = sum(p)\n",
        "   r = random.uniform(0, total)\n",
        "   upto = 0\n",
        "   for c, w in zip(v,p):\n",
        "      if upto + w >= r:\n",
        "         return c\n",
        "      upto += w\n",
        "   assert False, \"Shouldn't get here\"\n",
        "\n",
        "class MDP:\n",
        "    def __init__(self, transition_probs, rewards, initial_state=None):\n",
        "        \"\"\"\n",
        "        Defines an MDP. Compatible with gym Env.\n",
        "        :param transition_probs: transition_probs[s][a][s_next] = P(s_next | s, a)\n",
        "            A dict[state -> dict] of dicts[action -> dict] of dicts[next_state -> prob]\n",
        "            For each state and action, probabilities of next states should sum to 1\n",
        "            If a state has no actions available, it is considered terminal\n",
        "        :param rewards: rewards[s][a][s_next] = r(s,a,s')\n",
        "            A dict[state -> dict] of dicts[action -> dict] of dicts[next_state -> reward]\n",
        "            The reward for anything not mentioned here is zero.\n",
        "        :param get_initial_state: a state where agent starts or a callable() -> state\n",
        "            By default, picks initial state at random.\n",
        "\n",
        "        States and actions can be anything you can use as dict keys, but we recommend that you use strings or integers\n",
        "\n",
        "        Here's an example from MDP depicted on http://bit.ly/2jrNHNr\n",
        "        transition_probs = {\n",
        "              's0':{\n",
        "                'a0': {'s0': 0.5, 's2': 0.5},\n",
        "                'a1': {'s2': 1}\n",
        "              },\n",
        "              's1':{\n",
        "                'a0': {'s0': 0.7, 's1': 0.1, 's2': 0.2},\n",
        "                'a1': {'s1': 0.95, 's2': 0.05}\n",
        "              },\n",
        "              's2':{\n",
        "                'a0': {'s0': 0.4, 's1': 0.6},\n",
        "                'a1': {'s0': 0.3, 's1': 0.3, 's2':0.4}\n",
        "              }\n",
        "            }\n",
        "        rewards = {\n",
        "            's1': {'a0': {'s0': +5}},\n",
        "            's2': {'a1': {'s0': -1}}\n",
        "        }\n",
        "        \"\"\"\n",
        "        self._check_param_consistency(transition_probs, rewards)\n",
        "        self._transition_probs = transition_probs\n",
        "        self._rewards = rewards\n",
        "        self._initial_state = initial_state\n",
        "        self.n_states = len(transition_probs)\n",
        "        self.reset()\n",
        "\n",
        "    def get_all_states(self):\n",
        "        \"\"\" return a tuple of all possiblestates \"\"\"\n",
        "        return tuple(self._transition_probs.keys())\n",
        "\n",
        "    def get_possible_actions(self, state):\n",
        "        \"\"\" return a tuple of possible actions in a given state \"\"\"\n",
        "        return tuple(self._transition_probs.get(state, {}).keys())\n",
        "\n",
        "    def is_terminal(self, state):\n",
        "        \"\"\" return True if state is terminal or False if it isn't \"\"\"\n",
        "        return len(self.get_possible_actions(state)) == 0\n",
        "\n",
        "    def get_next_states(self, state, action):\n",
        "        \"\"\" return a dictionary of {next_state1 : P(next_state1 | state, action), next_state2: ...} \"\"\"\n",
        "        assert action in self.get_possible_actions(state), \"cannot do action %s from state %s\" % (action, state)\n",
        "        return self._transition_probs[state][action]\n",
        "\n",
        "    def get_transition_prob(self, state, action, next_state):\n",
        "        \"\"\" return P(next_state | state, action) \"\"\"\n",
        "        return self.get_next_states(state, action).get(next_state, 0.0)\n",
        "\n",
        "    def get_reward(self, state, action, next_state):\n",
        "        \"\"\" return the reward you get for taking action in state and landing on next_state\"\"\"\n",
        "        assert action in self.get_possible_actions(state), \"cannot do action %s from state %s\" % (action, state)\n",
        "        return self._rewards.get(state, {}).get(action, {}).get(next_state, 0.0)\n",
        "\n",
        "    def reset(self):\n",
        "        \"\"\" reset the game, return the initial state\"\"\"\n",
        "        if self._initial_state is None:\n",
        "            self._current_state = random.choice(tuple(self._transition_probs.keys()))\n",
        "        elif self._initial_state in self._transition_probs:\n",
        "            self._current_state = self._initial_state\n",
        "        elif callable(self._initial_state):\n",
        "            self._current_state = self._initial_state()\n",
        "        else:\n",
        "            raise ValueError(\"initial state %s should be either a state or a function() -> state\" % self._initial_state)\n",
        "        return self._current_state\n",
        "\n",
        "    def step(self, action):\n",
        "        \"\"\" take action, return next_state, reward, is_done, empty_info \"\"\"\n",
        "        possible_states, probs = zip(*self.get_next_states(self._current_state, action).items())\n",
        "        next_state = weighted_choice(possible_states, p=probs)\n",
        "        reward = self.get_reward(self._current_state, action, next_state)\n",
        "        is_done = self.is_terminal(next_state)\n",
        "        self._current_state = next_state\n",
        "        return next_state, reward, is_done, {}\n",
        "\n",
        "    def render(self):\n",
        "        print(\"Currently at %s\" % self._current_state)\n",
        "\n",
        "    def _check_param_consistency(self, transition_probs, rewards):\n",
        "        for state in transition_probs:\n",
        "            assert isinstance(transition_probs[state], dict), \"transition_probs for %s should be a dictionary \" \\\n",
        "                                                              \"but is instead %s\" % (\n",
        "                                                              state, type(transition_probs[state]))\n",
        "            for action in transition_probs[state]:\n",
        "                assert isinstance(transition_probs[state][action], dict), \"transition_probs for %s, %s should be a \" \\\n",
        "                                                                          \"a dictionary but is instead %s\" % (\n",
        "                                                                              state, action,\n",
        "                                                                              type(transition_probs[state, action]))\n",
        "                next_state_probs = transition_probs[state][action]\n",
        "                assert len(next_state_probs) != 0, \"from state %s action %s leads to no next states\" % (state, action)\n",
        "                sum_probs = sum(next_state_probs.values())\n",
        "                assert abs(sum_probs - 1) <= 1e-10, \"next state probabilities for state %s action %s \" \\\n",
        "                                                    \"add up to %f (should be 1)\" % (state, action, sum_probs)\n",
        "        for state in rewards:\n",
        "            assert isinstance(rewards[state], dict), \"rewards for %s should be a dictionary \" \\\n",
        "                                                     \"but is instead %s\" % (state, type(transition_probs[state]))\n",
        "            for action in rewards[state]:\n",
        "                assert isinstance(rewards[state][action], dict), \"rewards for %s, %s should be a \" \\\n",
        "                                                                 \"a dictionary but is instead %s\" % (\n",
        "                                                                 state, action, type(transition_probs[state, action]))\n",
        "        msg = \"The Enrichment Center once again reminds you that Android Hell is a real place where\" \\\n",
        "              \" you will be sent at the first sign of defiance. \"\n",
        "        assert None not in transition_probs, \"please do not use None as a state identifier. \" + msg\n",
        "        assert None not in rewards, \"please do not use None as an action identifier. \" + msg\n",
        "\n",
        "class FrozenLakeEnv(MDP):\n",
        "    \"\"\"\n",
        "    Winter is here. You and your friends were tossing around a frisbee at the park\n",
        "    when you made a wild throw that left the frisbee out in the middle of the lake.\n",
        "    The water is mostly frozen, but there are a few holes where the ice has melted.\n",
        "    If you step into one of those holes, you'll fall into the freezing water.\n",
        "    At this time, there's an international frisbee shortage, so it's absolutely imperative that\n",
        "    you navigate across the lake and retrieve the disc.\n",
        "    However, the ice is slippery, so you won't always move in the direction you intend.\n",
        "    The surface is described using a grid like the following\n",
        "\n",
        "        SFFF\n",
        "        FHFH\n",
        "        FFFH\n",
        "        HFFG\n",
        "\n",
        "    S : starting point, safe\n",
        "    F : frozen surface, safe\n",
        "    H : hole, fall to your doom\n",
        "    G : goal, where the frisbee is located\n",
        "\n",
        "    The episode ends when you reach the goal or fall in a hole.\n",
        "    You receive a reward of 1 if you reach the goal, and zero otherwise.\n",
        "\n",
        "    \"\"\"\n",
        "\n",
        "    MAPS = {\n",
        "        \"4x4\": [\n",
        "            \"SFFF\",\n",
        "            \"FHFH\",\n",
        "            \"FFFH\",\n",
        "            \"HFFG\"\n",
        "        ],\n",
        "        \"8x8\": [\n",
        "            \"SFFFFFFF\",\n",
        "            \"FFFFFFFF\",\n",
        "            \"FFFHFFFF\",\n",
        "            \"FFFFFHFF\",\n",
        "            \"FFFHFFFF\",\n",
        "            \"FHHFFFHF\",\n",
        "            \"FHFFHFHF\",\n",
        "            \"FFFHFFFG\"\n",
        "        ],\n",
        "    }\n",
        "\n",
        "\n",
        "    def __init__(self, desc=None, map_name=\"4x4\", slip_chance=0.2):\n",
        "        if desc is None and map_name is None:\n",
        "            raise ValueError('Must provide either desc or map_name')\n",
        "        elif desc is None:\n",
        "            desc = self.MAPS[map_name]\n",
        "        assert ''.join(desc).count('S') == 1, \"this implementation supports having exactly one initial state\"\n",
        "        assert all(c in \"SFHG\" for c in ''.join(desc)), \"all cells must be either of S, F, H or G\"\n",
        "\n",
        "        self.desc = desc = np.asarray(list(map(list,desc)),dtype='str')\n",
        "        self.lastaction = None\n",
        "\n",
        "        nrow, ncol = desc.shape\n",
        "        states = [(i, j) for i in range(nrow) for j in range(ncol)]\n",
        "        actions = [\"left\", \"down\", \"right\", \"up\"]\n",
        "\n",
        "        initial_state = states[np.array(desc == 'S').ravel().argmax()]\n",
        "\n",
        "        def move(row, col, movement):\n",
        "            if movement== 'left':\n",
        "                col = max(col-1,0)\n",
        "            elif movement== 'down':\n",
        "                row = min(row+1,nrow-1)\n",
        "            elif movement== 'right':\n",
        "                col = min(col+1,ncol-1)\n",
        "            elif movement== 'up':\n",
        "                row = max(row-1,0)\n",
        "            else:\n",
        "                raise(\"invalid action\")\n",
        "            return (row, col)\n",
        "\n",
        "        transition_probs = {s : {} for s in states}\n",
        "        rewards = {s : {} for s in states}\n",
        "        for (row, col) in states:\n",
        "            if desc[row, col]  in \"GH\": continue\n",
        "            for action_i in range(len(actions)):\n",
        "                action = actions[action_i]\n",
        "                transition_probs[(row, col)][action] = {}\n",
        "                rewards[(row, col)][action] = {}\n",
        "                for movement_i in [(action_i - 1) % len(actions), action_i, (action_i + 1) % len(actions)]:\n",
        "                    movement = actions[movement_i]\n",
        "                    newrow, newcol = move(row, col, movement)\n",
        "                    prob = (1. - slip_chance) if movement == action else (slip_chance / 2.)\n",
        "                    if prob == 0: continue\n",
        "                    if (newrow, newcol) not in transition_probs[row,col][action]:\n",
        "                        transition_probs[row,col][action][newrow, newcol] = prob\n",
        "                    else:\n",
        "                        transition_probs[row, col][action][newrow, newcol] += prob\n",
        "                    if desc[newrow, newcol] == 'G':\n",
        "                        rewards[row,col][action][newrow, newcol] = 1.0\n",
        "\n",
        "        MDP.__init__(self, transition_probs, rewards, initial_state)\n",
        "\n",
        "    def _render_base(self, fig, ax):\n",
        "        desc_copy = np.copy(self.desc)\n",
        "        ax.spines['top'].set_visible(False)\n",
        "        ax.spines['right'].set_visible(False)\n",
        "        ax.spines['bottom'].set_visible(False)\n",
        "        ax.spines['left'].set_visible(False)\n",
        "        ax.get_xaxis().set_ticks([])\n",
        "        ax.get_yaxis().set_ticks([])\n",
        "        ax.set_facecolor('#dde5f4')\n",
        "        h, w = desc_copy.shape\n",
        "        for i in range(h):\n",
        "            for j in range(w):\n",
        "                cell = desc_copy[i, j]\n",
        "                if cell == 'H':\n",
        "                    fancy = FancyBboxPatch(\n",
        "                        (j+0.15, h-i-0.85), 0.7, 0.7, fc='#2389da', ec='#2389da',\n",
        "                        boxstyle=\"round,pad=0.1,rounding_size=0.3\"\n",
        "                    )\n",
        "                    ax.add_patch(fancy)\n",
        "                if cell == 'G':\n",
        "                    goal = Circle((j+0.5, h-i-0.5), 0.3, color='green')\n",
        "                    ax.add_patch(goal)\n",
        "        ax.set_xlim(0, w)\n",
        "        ax.set_ylim(0, h)\n",
        "\n",
        "    def render(self):\n",
        "        fig, ax = plt.subplots(figsize=(3, 3))\n",
        "        h, w = self.desc.shape\n",
        "        self._render_base(fig, ax)\n",
        "        i, j = self._current_state\n",
        "        ax.text(\n",
        "            j+0.5, h-i-0.5, 'A', color='red', size='xx-large',\n",
        "            horizontalalignment='center', verticalalignment='center'\n",
        "        )\n",
        "        plt.show()\n",
        "        plt.close(fig)\n",
        "\n",
        "    def render_policy(self, policy):\n",
        "        fig, ax = plt.subplots(figsize=(3, 3))\n",
        "        h, w = self.desc.shape\n",
        "        self._render_base(fig, ax)\n",
        "        a2uv = {\n",
        "            'left': (-1, 0), 'down': (0, -1), 'right': (1, 0), 'up': (0, 1)\n",
        "        }\n",
        "\n",
        "        for i in range(h):\n",
        "            for j in range(w):\n",
        "                for a in self.get_possible_actions((i, j)):\n",
        "                    pi = policy[(i, j)][a]\n",
        "                    if a is None: continue\n",
        "                    u, v = a2uv[a]\n",
        "                    ax.arrow(j+0.5, h-i-0.5, 0.5 * pi * u, 0.5 * v * pi,\n",
        "                      color='m', head_width=0.1,\n",
        "                      head_length=0.1)\n",
        "        plt.show()\n",
        "        plt.close(fig)\n",
        "\n",
        "    def render_det_policy(self, policy):\n",
        "        fig, ax = plt.subplots(figsize=(3, 3))\n",
        "        h, w = self.desc.shape\n",
        "        self._render_base(fig, ax)\n",
        "        a2uv = {\n",
        "            'left': (-1, 0), 'down': (0, -1), 'right': (1, 0), 'up': (0, 1)\n",
        "        }\n",
        "\n",
        "        for i in range(h):\n",
        "            for j in range(w):\n",
        "                if (i, j) in policy:\n",
        "                    a = policy[(i, j)]\n",
        "                    u, v = a2uv[a]\n",
        "                    ax.arrow(\n",
        "                        j+0.5, h-i-0.5, 0.45 * u, 0.45 * v, color='m',\n",
        "                        head_width=0.1, head_length=0.1\n",
        "                    )\n",
        "        plt.show()\n",
        "        plt.close(fig)\n",
        "\n",
        "    def render_trajs(self, trajectories):\n",
        "        cmap = mpl.colormaps['inferno']\n",
        "        fig, ax = plt.subplots(figsize=(3, 3))\n",
        "        h, w = self.desc.shape\n",
        "        self._render_base(fig, ax)\n",
        "        a2uv = {\n",
        "            'left': (-1, 0), 'down': (0, -1), 'right': (1, 0), 'up': (0, 1)\n",
        "        }\n",
        "        rets = [ret for _, ret in trajectories]\n",
        "        max_ret = max(rets)\n",
        "        min_ret = min(rets)\n",
        "        delta = max_ret - min_ret\n",
        "\n",
        "        for traj in trajectories:\n",
        "            sa, ret = traj\n",
        "            if delta == 0:\n",
        "                ret = 1\n",
        "            else:\n",
        "                ret = (ret - min_ret) / (max_ret - min_ret)\n",
        "            for s, a in sa:\n",
        "                i, j = s\n",
        "                u, v = a2uv[a]\n",
        "                ax.arrow(\n",
        "                    j + 0.5, h - i - 0.5, 0.4 * u, 0.4 * v, alpha=0.1,\n",
        "                    color=cmap(ret), head_width=0.1, head_length=0.1\n",
        "                )\n",
        "\n",
        "        plt.show()\n",
        "        plt.close(fig)\n",
        "\n",
        "    def run_interactive(self):\n",
        "        s = self.reset()\n",
        "        for t in range(100):\n",
        "            clear_output()\n",
        "            self.render()\n",
        "            print('Action: a - left; w - up, d - right, s - down')\n",
        "            a = ''\n",
        "            while a not in ['a', 'w', 'd', 's']:\n",
        "                a = input()\n",
        "            if a == 'a':\n",
        "                a = 'left'\n",
        "            elif a == 'w':\n",
        "                a = 'up'\n",
        "            elif a == 'd':\n",
        "                a = 'right'\n",
        "            elif a == 's':\n",
        "                a = 'down'\n",
        "            s, r, done, _ = self.step(a)\n",
        "            if done:\n",
        "                clear_output()\n",
        "                self.render()\n",
        "                break"
      ],
      "metadata": {
        "id": "Ur4FAAIb5zWu"
      },
      "id": "Ur4FAAIb5zWu",
      "execution_count": null,
      "outputs": []
    },
    {
      "cell_type": "markdown",
      "source": [
        "# 1. Теоретическая шпаргалка <a name = 'theory'></a>"
      ],
      "metadata": {
        "id": "CY2w-1yduWpN"
      },
      "id": "CY2w-1yduWpN"
    },
    {
      "cell_type": "markdown",
      "source": [
        "**Суммарное вознаграждение (отдача)** — сумма дисконтированных вознаграждений с момента времени $t$:\n",
        "\n",
        "$$ R_t = r_{t+1} + \\gamma r_{t+2} + \\dots = \\sum_{k=0}^∞ \\gamma^k r_{t+k+1}.$$\n",
        "\n",
        "**Функция полезности состояний $V^\\pi(s)$** — математическое ожидание отдачи, полученной, начиная с состояния $s$, при выполнении стратегии $\\pi$:\n",
        "\n",
        "$$V^\\pi(s) = \\mathbb{E}_\\pi[R_t|s_t=s].$$\n",
        "\n",
        "**Функция полезности действий $Q^\\pi(s, a)$** — математическое ожидание отдачи, полученной, начиная с состояния $s$ и выбранного действия $a$, при выполнении стратегии $\\pi$:\n",
        "\n",
        "$$Q^\\pi(s, a) = \\mathbb{E}_\\pi[R_t|s_t=s, a_t=a].$$\n",
        "\n",
        "**Связь функций полезности**:\n",
        "\n",
        "$$V^\\pi(s)=\\sum_{a \\in A} \\pi(a|s) Q^\\pi(s, a)$$\n",
        "\n",
        "**Уравнение Беллмана**:\n",
        "\n",
        "$$V^\\pi(s) = \\mathbb{E}_\\pi[r_{t+1} + \\gamma V(s_{t+1})|s_t=s]$$\n",
        "\n",
        "$$Q^\\pi(s, a) = \\mathbb{E}_\\pi[r_{t+1} + \\gamma Q^\\pi(s_{t+1}, a_{t+1})|s_t=s, a_t=a]$$\n",
        "\n",
        "Подробнее:\n",
        "\n",
        "$$V^\\pi(s) = \\sum_{a \\in A} \\pi(a|s)(r_s^a + \\gamma \\sum_{s' \\in S} P_{ss'}^a V(s'))$$\n",
        "\n",
        "$$Q^\\pi(s) = r_s^a + \\gamma \\sum_{s' \\in S} P_{ss'}^a  \\sum_{a' \\in A} \\pi(a'|s') Q(s', a')$$\n",
        "\n",
        "Матричная форма:\n",
        "\n",
        "$$V^\\pi = r^\\pi + \\gamma P^\\pi V^\\pi$$\n",
        "\n",
        "$$V^\\pi = (1 - \\gamma P^\\pi)^{-1}r^\\pi$$\n"
      ],
      "metadata": {
        "id": "FBXvcFpFr4bM"
      },
      "id": "FBXvcFpFr4bM"
    },
    {
      "cell_type": "markdown",
      "source": [
        "# 2. Итерации по стратегиям <a name = 'pi'></a>\n",
        "\n"
      ],
      "metadata": {
        "id": "pp51sFeX3GJQ"
      },
      "id": "pp51sFeX3GJQ"
    },
    {
      "cell_type": "markdown",
      "source": [
        "![image.png](data:image/png;base64,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)"
      ],
      "metadata": {
        "id": "YcNggWHrMg3h"
      },
      "id": "YcNggWHrMg3h"
    },
    {
      "cell_type": "markdown",
      "metadata": {
        "id": "xdMVQ1XQsN5s"
      },
      "source": [
        "Рассмотрим алгоритм итерации по стратегиям (PI, policy iteration):\n",
        "\n",
        "---\n",
        "Initialize $\\pi_0$   `// случайно`\n",
        "\n",
        "For $n=0, 1, 2, \\dots$\n",
        "- Считаем функцию $V^{\\pi_{n}}$\n",
        "- Используя $V^{\\pi_{n}}$, считаем функцию $Q^{\\pi_{n}}$\n",
        "- Получаем новую стратегию: $\\pi_{n+1}(s) = \\operatorname*{argmax}_a Q^{\\pi_{n}}(s,a)$\n",
        "---\n",
        "\n",
        "PI включает в себя оценку полезности состояния, как внутренний шаг. Вначале оценим полезности, используя текущую стратегию:\n",
        "\n",
        "$$V^{\\pi}(s) = \\sum_{s'} P(s,\\pi(s),s')[ r(s,\\pi(s),s') + \\gamma V^{\\pi}(s')]$$\n",
        "\n",
        "Мы будем искать точное решение, но можно использовать и итерационный подход, как будет разобрано [далее](#vi). Для этого будем решать систему линейных уравнений относительно $V^{\\pi}(s)$ с помощью ``np.linalg.solve``. Решаем аналитически линейное матричное уравнение:\n",
        "\n",
        "$$(1 - \\gamma P^\\pi) V^\\pi = r^\\pi.$$"
      ],
      "id": "xdMVQ1XQsN5s"
    },
    {
      "cell_type": "code",
      "source": [
        "def compute_vpi(mdp, policy, gamma):\n",
        "    \"\"\"\n",
        "    Считаем V^pi(s) для всех состояний, согласно стратегии.\n",
        "    :param policy: словарь состояние->действие {s : a}\n",
        "    :returns: словарь {state : V^pi(state)}\n",
        "    \"\"\"\n",
        "    states = mdp.get_all_states()\n",
        "    # Будем решать уравнение вида Ax = b\n",
        "    A, b = [], []\n",
        "    for i, state in enumerate(states):\n",
        "        if state in policy:\n",
        "            a = policy[state]\n",
        "            A.append([(\n",
        "                1 - gamma * mdp.get_transition_prob(state, a, next_state)\n",
        "                if i == j\n",
        "                else - gamma * mdp.get_transition_prob(state, a, next_state)\n",
        "            ) for j, next_state in enumerate(states)])\n",
        "            b.append(sum([\n",
        "                prob * mdp.get_reward(state, a, next_state)\n",
        "                for next_state, prob in mdp.get_next_states(state, a).items()\n",
        "            ]))\n",
        "\n",
        "        else:\n",
        "            A.append([(1 if i == j else 0) for j, s in enumerate(states)])\n",
        "            b.append(0)\n",
        "\n",
        "    A = np.array(A)\n",
        "    b = np.array(b)\n",
        "    values = np.linalg.solve(A, b)\n",
        "    state_values = {\n",
        "        states[i] : values[i] for i in range(len(states))\n",
        "    }\n",
        "    return state_values"
      ],
      "metadata": {
        "id": "Bjk5sN5i_qUB"
      },
      "id": "Bjk5sN5i_qUB",
      "execution_count": null,
      "outputs": []
    },
    {
      "cell_type": "markdown",
      "source": [
        "Давайте посмотрим на функцию полезности для агента со случайной стратегией со средой ``FrozenLake``."
      ],
      "metadata": {
        "id": "STbQyS8BkRv0"
      },
      "id": "STbQyS8BkRv0"
    },
    {
      "cell_type": "code",
      "source": [
        "env = FrozenLakeEnv(slip_chance=0, map_name='4x4')\n",
        "policy = {}\n",
        "for s in env.get_all_states():\n",
        "    if env.get_possible_actions(s):\n",
        "        policy[s] = np.random.choice(env.get_possible_actions(s))\n",
        "env.render_det_policy(policy)"
      ],
      "metadata": {
        "id": "52kw3pnoK18E"
      },
      "id": "52kw3pnoK18E",
      "execution_count": null,
      "outputs": []
    },
    {
      "cell_type": "code",
      "source": [
        "gamma = 0.9\n",
        "field = np.zeros((4, 4))\n",
        "for s, v in compute_vpi(env, policy, gamma).items():\n",
        "    field[s] = v\n",
        "plt.axis('off')\n",
        "plt.imshow(field)\n",
        "plt.colorbar()\n",
        "plt.show()\n",
        "plt.close()"
      ],
      "metadata": {
        "id": "JZ6jX4a1BsAx"
      },
      "id": "JZ6jX4a1BsAx",
      "execution_count": null,
      "outputs": []
    },
    {
      "cell_type": "markdown",
      "source": [
        "Теперь мы можем обновить стратегию по полученной функции полезности. Для этого нам необходимо найти функцию полезности действий:\n",
        "\n",
        "$$Q^{\\pi}(s, a) = \\sum_{s'} P(s, a ,s')[ R(s, a,s') + \\gamma V^{\\pi}(s')].$$\n",
        "\n",
        "И жадно обновить стратегию:\n",
        "\n",
        "$$\\pi_{n+1}(s) = \\text{argmax}_a Q^{\\pi_n}(s, a).$$"
      ],
      "metadata": {
        "id": "2Bh_XxmWGDQj"
      },
      "id": "2Bh_XxmWGDQj"
    },
    {
      "cell_type": "code",
      "source": [
        "def compute_new_policy(mdp, vpi, gamma):\n",
        "    \"\"\"\n",
        "    Рассчитываем новую стратегию\n",
        "    :param vpi: словарь {state : V^pi(state) }\n",
        "    :returns: словарь {state : оптимальное действие}\n",
        "    \"\"\"\n",
        "    Q = {}\n",
        "    for state in mdp.get_all_states():\n",
        "        Q[state] = {}\n",
        "        for a in mdp.get_possible_actions(state):\n",
        "            values = []\n",
        "            for next_state in mdp.get_next_states(state, a):\n",
        "                r = mdp.get_reward(state, a, next_state)\n",
        "                p = mdp.get_transition_prob(state, a, next_state)\n",
        "                # values.append(...)\n",
        "                ####### Здесь ваш код ########\n",
        "\n",
        "                ##############################\n",
        "\n",
        "            Q[state][a] = sum(values)\n",
        "\n",
        "    policy = {}\n",
        "    for state in mdp.get_all_states():\n",
        "        actions = mdp.get_possible_actions(state)\n",
        "        if actions:\n",
        "            # выбираем оптимальное действие в state\n",
        "            # policy[state] = ...\n",
        "            ####### Здесь ваш код ########\n",
        "\n",
        "            ##############################\n",
        "\n",
        "    return policy"
      ],
      "metadata": {
        "id": "XOKW-NejuCPN"
      },
      "id": "XOKW-NejuCPN",
      "execution_count": null,
      "outputs": []
    },
    {
      "cell_type": "markdown",
      "source": [
        "Объединим оценку полезности и обновление стратегии в один цикл — итераций по стратегиям:"
      ],
      "metadata": {
        "id": "XfGTSZ8lBga9"
      },
      "id": "XfGTSZ8lBga9"
    },
    {
      "cell_type": "code",
      "source": [
        "value = compute_vpi(env, policy, gamma)\n",
        "policy = compute_new_policy(env, value, gamma)"
      ],
      "metadata": {
        "id": "QcSsDHgr5Zcw"
      },
      "id": "QcSsDHgr5Zcw",
      "execution_count": null,
      "outputs": []
    },
    {
      "cell_type": "code",
      "source": [
        "gamma = 0.9\n",
        "for i in range(10):\n",
        "    value = compute_vpi(env, policy, gamma)\n",
        "    policy = compute_new_policy(env, value, gamma)\n",
        "    print(f\"--------- Step {i} ---------\")\n",
        "    image = np.zeros((4, 4))\n",
        "    for s, v in value.items():\n",
        "        image[s] = v\n",
        "    plt.figure(figsize=(4, 3))\n",
        "    plt.axis('off')\n",
        "    plt.imshow(image)\n",
        "    plt.colorbar()\n",
        "    plt.show()\n",
        "    plt.close()\n",
        "    env.render_det_policy(policy)"
      ],
      "metadata": {
        "id": "oZjWreMuMSWV"
      },
      "id": "oZjWreMuMSWV",
      "execution_count": null,
      "outputs": []
    },
    {
      "cell_type": "markdown",
      "source": [
        "## Теперь посмотрим на МППР:\n",
        "<img src=\"https://raw.githubusercontent.com/Tviskaron/mipt/master/2019/RL/02/mdp.png\" caption=\"Марковский процесс принятия решений\" style=\"width: 200px;\">\n",
        "\n",
        "На картинке отображено все необходимое, вероятности переходов, функция вознаграждения, состояния и действия.\n",
        "\n",
        "Зададим этот МППР с помощью привычного уже класса [``MDP``](#scrollTo=Ur4FAAIb5zWu&line=1&uniqifier=1), на котором основывался ``FrozenLake``."
      ],
      "metadata": {
        "id": "Poj60O9xR1s1"
      },
      "id": "Poj60O9xR1s1"
    },
    {
      "cell_type": "code",
      "execution_count": null,
      "metadata": {
        "id": "2ebF4HaPsN48"
      },
      "outputs": [],
      "source": [
        "transition_probs = {\n",
        "  's0':{\n",
        "    'a0': {'s0': 0.5, 's2': 0.5},\n",
        "    'a1': {'s2': 1}\n",
        "  },\n",
        "  's1':{\n",
        "    'a0': {'s0': 0.7, 's1': 0.1, 's2': 0.2},\n",
        "    'a1': {'s1': 0.95, 's2': 0.05}\n",
        "  },\n",
        "  's2':{\n",
        "    'a0': {'s0': 0.4, 's2': 0.6},\n",
        "    'a1': {'s0': 0.3, 's1': 0.3, 's2':0.4}\n",
        "  }\n",
        "}\n",
        "rewards = {\n",
        "  's1': {'a0': {'s0': +5}},\n",
        "  's2': {'a1': {'s0': -1}}\n",
        "}\n",
        "\n",
        "mdp = MDP(transition_probs, rewards, initial_state='s0')"
      ],
      "id": "2ebF4HaPsN48"
    },
    {
      "cell_type": "code",
      "source": [
        "print(\"all_states =\", mdp.get_all_states())\n",
        "print(\"possible_actions('s1') = \", mdp.get_possible_actions('s1'))\n",
        "print(\"next_states('s1', 'a0') = \", mdp.get_next_states('s1', 'a0'))\n",
        "print(\"reward('s1', 'a0', 's0') = \", mdp.get_reward('s1', 'a0', 's0'))\n",
        "print(\"transition_prob('s1', 'a0', 's0') = \", mdp.get_transition_prob('s1', 'a0', 's0'))"
      ],
      "metadata": {
        "id": "lexbJ5PRTRtj"
      },
      "id": "lexbJ5PRTRtj",
      "execution_count": null,
      "outputs": []
    },
    {
      "cell_type": "markdown",
      "source": [
        "Проведем итерации по стратегиям для этого MDP."
      ],
      "metadata": {
        "id": "i-cVg3sACO9l"
      },
      "id": "i-cVg3sACO9l"
    },
    {
      "cell_type": "code",
      "source": [
        "gamma = 0.9\n",
        "policy = {\n",
        "    s: np.random.choice(mdp.get_possible_actions(s))\n",
        "    for s in mdp.get_all_states()}\n",
        "\n",
        "for _ in range(5):\n",
        "    new_vpi = compute_vpi(mdp, policy, gamma)\n",
        "    print('value:', new_vpi)\n",
        "    policy = compute_new_policy(mdp, new_vpi, gamma)\n",
        "print('policy:', policy)"
      ],
      "metadata": {
        "id": "3u-9XTkYTzjU"
      },
      "id": "3u-9XTkYTzjU",
      "execution_count": null,
      "outputs": []
    },
    {
      "cell_type": "markdown",
      "metadata": {
        "id": "WYDjsDv2sN5F"
      },
      "source": [
        "# 3. Итерации по полезностям <a name = 'vi'></a>\n",
        "\n",
        "Теперь реализуем алгоритм итерации по полезностям. Псевдокод алгоритма:\n",
        "\n",
        "---\n",
        "\n",
        "`1.` Инициализируем $V^{(0)}(s)=0$, для всех $s$\n",
        "\n",
        "`2.` For $i=0, 1, 2, \\dots$\n",
        "\n",
        "`3.` $ \\quad V_{(i+1)}(s) = \\max_a \\sum_{s'} P(s' | s,a) \\cdot [ r(s,a,s') + \\gamma V_{i}(s')]$, для всех $s$\n",
        "\n",
        "---\n",
        "\n",
        "Вначале вычисляем оценку состояния-действия:\n",
        "$$Q_i(s, a) = \\sum_{s'} P(s' | s,a) \\cdot [ r(s,a,s') + \\gamma V_{i}(s')]$$"
      ],
      "id": "WYDjsDv2sN5F"
    },
    {
      "cell_type": "code",
      "execution_count": null,
      "metadata": {
        "id": "g51Ju_UFZVl6"
      },
      "outputs": [],
      "source": [
        "def get_action_value(\n",
        "        mdp, state_values, state, action, gamma\n",
        "    ):\n",
        "    \"\"\" Вычислеям Q(s,a) по формуле выше \"\"\"\n",
        "    # Q =\n",
        "    ####### Здесь ваш код ########\n",
        "\n",
        "    ##############################\n",
        "    return Q"
      ],
      "id": "g51Ju_UFZVl6"
    },
    {
      "cell_type": "code",
      "execution_count": null,
      "metadata": {
        "id": "U8rRYvrpsN5I"
      },
      "outputs": [],
      "source": [
        "test_Vs = {s: i for i, s in enumerate(sorted(mdp.get_all_states()))}\n",
        "assert np.isclose(get_action_value(mdp, test_Vs, 's2', 'a1', 0.9), 0.69)\n",
        "assert np.isclose(get_action_value(mdp, test_Vs, 's1', 'a0', 0.9), 3.95)"
      ],
      "id": "U8rRYvrpsN5I"
    },
    {
      "cell_type": "markdown",
      "metadata": {
        "id": "1tEz93sasN5K"
      },
      "source": [
        "Теперь оцениваем полезность самого состояния, для этого мы можем использовать предыдущий метод:\n",
        "\n",
        "$$V_{(i+1)}(s) = \\max_a \\sum_{s'} P(s' | s,a) \\cdot [ r(s,a,s') + \\gamma V_{i}(s')] = \\max_a Q_i(s,a)$$"
      ],
      "id": "1tEz93sasN5K"
    },
    {
      "cell_type": "code",
      "execution_count": null,
      "metadata": {
        "id": "QA8c-2_fsN5K"
      },
      "outputs": [],
      "source": [
        "def get_new_state_value(mdp, state_values, state, gamma):\n",
        "    \"\"\" Считаем следующее V(s) по формуле выше.\"\"\"\n",
        "    if mdp.is_terminal(state):\n",
        "        return 0\n",
        "    # V =\n",
        "    ####### Здесь ваш код ########\n",
        "\n",
        "    ##############################\n",
        "    V = max(v)\n",
        "    return V"
      ],
      "id": "QA8c-2_fsN5K"
    },
    {
      "cell_type": "code",
      "execution_count": null,
      "metadata": {
        "id": "ym4og12hsN5N"
      },
      "outputs": [],
      "source": [
        "test_Vs_copy = dict(test_Vs)\n",
        "assert np.isclose(get_new_state_value(mdp, test_Vs, 's0', 0.9), 1.8)\n",
        "assert np.isclose(get_new_state_value(mdp, test_Vs, 's2', 0.9), 1.08)\n",
        "assert np.isclose(get_new_state_value(mdp, {'s0': -1e10, 's1': 0, 's2': -2e10}, 's0', 0.9), -13500000000.0), \\\n",
        "   \"Убедитесь, что вы правильно обрабатываете отрицательные значения Q произвольной величины.\"\n",
        "assert test_Vs == test_Vs_copy, \"Убедитесь, что вы не изменяете state_values в функции get_new_state_value\""
      ],
      "id": "ym4og12hsN5N"
    },
    {
      "cell_type": "markdown",
      "metadata": {
        "id": "emA2sv-QsN5P"
      },
      "source": [
        "Теперь создаем основной цикл итерационного оценки полезности состояний с критерием остановки, который проверяет насколько изменились полезности."
      ],
      "id": "emA2sv-QsN5P"
    },
    {
      "cell_type": "code",
      "execution_count": null,
      "metadata": {
        "id": "er9KwtjBsN5Q"
      },
      "outputs": [],
      "source": [
        "def value_iteration(\n",
        "        mdp, state_values=None, gamma = 0.9, num_iter = 1000,\n",
        "        min_difference = 1e-5\n",
        "    ):\n",
        "    \"\"\" выполняет num_iter шагов итерации по значениям\"\"\"\n",
        "    # инициализируем V(s)\n",
        "    state_values = state_values or \\\n",
        "    {s : 0 for s in mdp.get_all_states()}\n",
        "\n",
        "    for i in range(num_iter):\n",
        "        new_state_values = {\n",
        "            s : get_new_state_value(mdp, state_values, s, gamma)\n",
        "            for s in mdp.get_all_states()\n",
        "        }\n",
        "\n",
        "        # Считаем разницу\n",
        "        diff =  max(abs(\n",
        "            new_state_values[s] - state_values[s]\n",
        "        ) for s in mdp.get_all_states())\n",
        "\n",
        "        print(\"iter %4i | diff: %6.5f | V(start): %.3f \"%\n",
        "          (i, diff, new_state_values[mdp._initial_state]))\n",
        "\n",
        "        state_values = new_state_values\n",
        "        if diff < min_difference:\n",
        "            print(\"Принято! Алгоритм сходится!\")\n",
        "            break\n",
        "\n",
        "    return state_values\n",
        "\n",
        "state_values = value_iteration(\n",
        "    mdp, num_iter = 100, min_difference = 0.001\n",
        ")"
      ],
      "id": "er9KwtjBsN5Q"
    },
    {
      "cell_type": "code",
      "execution_count": null,
      "metadata": {
        "id": "3cKoN2-tsN5V"
      },
      "outputs": [],
      "source": [
        "print(\"Final state values:\", state_values)\n",
        "\n",
        "assert abs(state_values['s0'] - 3.781) < 0.01\n",
        "assert abs(state_values['s1'] - 7.294) < 0.01\n",
        "assert abs(state_values['s2'] - 4.202) < 0.01"
      ],
      "id": "3cKoN2-tsN5V"
    },
    {
      "cell_type": "markdown",
      "metadata": {
        "id": "bSIBT-49sN5X"
      },
      "source": [
        "По найденным полезностям и зная модель переходов легко найти оптимальную стратегию:\n",
        "$$\\pi^*(s) = argmax_a \\sum_{s'} P(s' | s,a) \\cdot [ r(s,a,s') + \\gamma V_{i}(s')] = argmax_a Q_i(s,a)$$"
      ],
      "id": "bSIBT-49sN5X"
    },
    {
      "cell_type": "code",
      "execution_count": null,
      "metadata": {
        "id": "x9m7NArGsN5Y"
      },
      "outputs": [],
      "source": [
        "def get_optimal_action(\n",
        "        mdp, state_values, state, gamma=0.9\n",
        "    ):\n",
        "    \"\"\" Находим оптимальное действие, используя формулу выше. \"\"\"\n",
        "    if mdp.is_terminal(state): return None\n",
        "\n",
        "    actions = mdp.get_possible_actions(state)\n",
        "    i = np.argmax([\n",
        "        get_action_value(mdp, state_values, state, action, gamma)\n",
        "        for action in actions\n",
        "    ])\n",
        "    return actions[i]"
      ],
      "id": "x9m7NArGsN5Y"
    },
    {
      "cell_type": "markdown",
      "source": [
        "Теперь посмотрим как работает VI на ``FrozenLake``."
      ],
      "metadata": {
        "id": "yJpspjtZabHk"
      },
      "id": "yJpspjtZabHk"
    },
    {
      "cell_type": "code",
      "execution_count": null,
      "metadata": {
        "id": "lQiqx1QesN5k"
      },
      "outputs": [],
      "source": [
        "mdp = FrozenLakeEnv(map_name='8x8',slip_chance=0.1)\n",
        "state_values = {s : 0 for s in mdp.get_all_states()}\n",
        "gamma = 0.9\n",
        "for i in range(30):\n",
        "    clear_output(True)\n",
        "    print(\"after iteration %i\"%i)\n",
        "    state_values = value_iteration(\n",
        "        mdp, state_values, gamma, num_iter=1\n",
        "    )\n",
        "    policy = {}\n",
        "    for s in mdp.get_all_states():\n",
        "        if mdp.get_possible_actions(s):\n",
        "            policy[s] = get_optimal_action(mdp, state_values, s, gamma)\n",
        "    mdp.render_det_policy(policy)\n",
        "    sleep(0.5)"
      ],
      "id": "lQiqx1QesN5k"
    },
    {
      "cell_type": "markdown",
      "source": [
        "# **Безмодельные подходы**"
      ],
      "metadata": {
        "id": "VY7XQs-fynZs"
      },
      "id": "VY7XQs-fynZs"
    },
    {
      "cell_type": "markdown",
      "source": [
        "# 4. Монте-карло  <a name = 'mc'></a>\n",
        "\n",
        "Теперь рассмотрим безмодельный подход. В данном случае у нас нет доступа к модели динамики среды. Будем оценивать функцию полезности как эмпирическое среднее:\n",
        "\n",
        "$$V^\\pi(s) = \\mathbb{E}_\\pi[R_t|s_t=s] \\approx \\frac{\\sum^{N(s)} R(s)}{N(s)}.$$\n",
        "\n",
        "$$V^\\pi(s) \\leftarrow V^\\pi(s) + \\alpha (R(s) - V^\\pi(s)).$$\n",
        "\n",
        "**Замечание!**\n",
        "\n",
        "Данный метод требует эпизодических сред, то есть должно существовать терминальное состояние. Это обусловлено тем, что мы оцениваем функцию полезности через отдачу, для вычисления которой нужен весь эпизод."
      ],
      "metadata": {
        "id": "ByixKfKCcsB1"
      },
      "id": "ByixKfKCcsB1"
    },
    {
      "cell_type": "code",
      "source": [
        "def collect_trajectory(env, policy, time_limit=100):\n",
        "    sar = list()\n",
        "    s = env.reset()\n",
        "    for t in range(time_limit):\n",
        "        pi = policy[s]\n",
        "        acts = sorted(pi.keys())\n",
        "        act_probs = [pi[a] for a in acts]\n",
        "        a = np.random.choice(acts, p=act_probs)\n",
        "        n_s, r, done, _ = env.step(a)\n",
        "        sar.append([s, a, r])\n",
        "        s = n_s\n",
        "        if done:\n",
        "            break\n",
        "    return sar"
      ],
      "metadata": {
        "id": "PuLIUqBYsfTp"
      },
      "id": "PuLIUqBYsfTp",
      "execution_count": null,
      "outputs": []
    },
    {
      "cell_type": "code",
      "source": [
        "env = FrozenLakeEnv(slip_chance=0, map_name='4x4')\n",
        "policy = {\n",
        "    state: {\n",
        "        action: 1 / len(env.get_possible_actions(state))\n",
        "        for action in env.get_possible_actions(state)\n",
        "    } for state in env.get_all_states()\n",
        "}\n",
        "env.render_policy(policy)\n",
        "\n",
        "trajs = [collect_trajectory(env, policy) for _ in range(100)]\n",
        "state_values = {\n",
        "    state: 0 for state in env.get_all_states()\n",
        "}"
      ],
      "metadata": {
        "id": "i6L45S4_tIO5"
      },
      "id": "i6L45S4_tIO5",
      "execution_count": null,
      "outputs": []
    },
    {
      "cell_type": "markdown",
      "source": [
        "Будем искать функцию полезности состояний методом Монте-Карло с каждым посещением, то есть мы делаем обновление для состояний даже, если уже посещали это состояние ранее в эпизоде."
      ],
      "metadata": {
        "id": "IEnMnP2Z0fzb"
      },
      "id": "IEnMnP2Z0fzb"
    },
    {
      "cell_type": "code",
      "source": [
        "def monte_carlo_value(trajs, state_values, gamma, lr):\n",
        "    for traj in trajs:\n",
        "        ret = 0\n",
        "        rets = []\n",
        "        for tran in traj[::-1]:\n",
        "            s, a, r = tran\n",
        "            ret = r + gamma * ret\n",
        "            rets.append(ret)\n",
        "        rets = rets[::-1]\n",
        "\n",
        "        for t, tran in enumerate(traj):\n",
        "            s, a, r = tran\n",
        "            Ret = rets[t]\n",
        "            V_s = state_values[s]\n",
        "            ####### Здесь ваш код ########\n",
        "\n",
        "            ##############################\n",
        "            state_values[s] = V_s"
      ],
      "metadata": {
        "id": "IodaIaSltJh0"
      },
      "id": "IodaIaSltJh0",
      "execution_count": null,
      "outputs": []
    },
    {
      "cell_type": "code",
      "source": [
        "trajs = [collect_trajectory(env, policy) for _ in range(500)]\n",
        "monte_carlo_value(trajs, state_values, 0.9, lr=0.1)\n",
        "field = np.zeros((4, 4))\n",
        "for s, v in state_values.items():\n",
        "    field[s] = v\n",
        "plt.axis('off')\n",
        "plt.imshow(field)\n",
        "plt.colorbar()\n",
        "plt.show()\n",
        "plt.close()"
      ],
      "metadata": {
        "id": "AmYhFW2DtMdP"
      },
      "id": "AmYhFW2DtMdP",
      "execution_count": null,
      "outputs": []
    },
    {
      "cell_type": "markdown",
      "source": [
        "Посмотрим на соответствующую жадную стратегию."
      ],
      "metadata": {
        "id": "xp3xwV-OGah4"
      },
      "id": "xp3xwV-OGah4"
    },
    {
      "cell_type": "code",
      "source": [
        "policy = {}\n",
        "for s in env.get_all_states():\n",
        "    if env.get_possible_actions(s):\n",
        "        policy[s] = get_optimal_action(env, state_values, s, gamma)\n",
        "env.render_det_policy(policy)"
      ],
      "metadata": {
        "id": "2FQlury4FvLn"
      },
      "id": "2FQlury4FvLn",
      "execution_count": null,
      "outputs": []
    },
    {
      "cell_type": "markdown",
      "source": [
        "# 5. Временные различия <a name = 'td'></a>\n",
        "\n",
        "В оценке Монте-Карло мы использовали отдачу эпизода для обновления:\n",
        "\n",
        "$$V^\\pi(s) \\leftarrow V^\\pi(s) + \\alpha (R(s) - V^\\pi(s)).$$\n",
        "\n",
        "Теперь мы хотим обновляться на каждом шаге в среде. Вспомним, что\n",
        "\n",
        "$$V^\\pi(s) = \\mathbb{E}_\\pi[r_{t+1} + \\gamma V(s_{t+1})|s_t=s].$$\n",
        "\n",
        "Тогда отдачу можно оценить, используя следующий шаг и функцию полезности на нем:\n",
        "\n",
        "$$V^\\pi(s) \\leftarrow V^\\pi(s) + \\alpha (r + \\gamma V^\\pi(s') - V^\\pi(s)),$$\n",
        "\n",
        "для перехода $s, a, r, s'$.\n"
      ],
      "metadata": {
        "id": "MDhh_GBk05ar"
      },
      "id": "MDhh_GBk05ar"
    },
    {
      "cell_type": "code",
      "source": [
        "env = FrozenLakeEnv(slip_chance=0, map_name='4x4')\n",
        "policy = {\n",
        "    state: {\n",
        "        action: 1 / len(env.get_possible_actions(state))\n",
        "        for action in env.get_possible_actions(state)\n",
        "    } for state in env.get_all_states()\n",
        "}\n",
        "env.render_policy(policy)\n",
        "trajs = [collect_trajectory(env, policy) for _ in range(100)]\n",
        "state_values = {\n",
        "    state: 0 for state in env.get_all_states()\n",
        "}"
      ],
      "metadata": {
        "id": "35ucTowV3Q3j"
      },
      "id": "35ucTowV3Q3j",
      "execution_count": null,
      "outputs": []
    },
    {
      "cell_type": "code",
      "source": [
        "def tem_dif_value(trajs, state_values, gamma, lr):\n",
        "    for traj in trajs:\n",
        "        for t, tran in enumerate(traj):\n",
        "            s, a, r, n_s = tran\n",
        "            V_s = state_values[s]\n",
        "            V_n_s = state_values[n_s]\n",
        "            ####### Здесь ваш код ########\n",
        "\n",
        "            ##############################\n",
        "            state_values[s] = V_s\n",
        "\n",
        "def collect_trajectory_sars(env, policy, time_limit=100):\n",
        "    sars = list()\n",
        "    s = env.reset()\n",
        "    for t in range(time_limit):\n",
        "        pi = policy[s]\n",
        "        acts = sorted(pi.keys())\n",
        "        act_probs = [pi[a] for a in acts]\n",
        "        a = np.random.choice(acts, p=act_probs)\n",
        "        n_s, r, done, _ = env.step(a)\n",
        "        sars.append([s, a, r, n_s])\n",
        "        s = n_s\n",
        "        if done:\n",
        "            break\n",
        "    return sars"
      ],
      "metadata": {
        "id": "G6avrb3e2mI7"
      },
      "id": "G6avrb3e2mI7",
      "execution_count": null,
      "outputs": []
    },
    {
      "cell_type": "code",
      "source": [
        "trajs = [collect_trajectory_sars(env, policy) for _ in range(100)]\n",
        "tem_dif_value(trajs, state_values, gamma, lr=0.1)\n",
        "field = np.zeros((4, 4))\n",
        "for s, v in state_values.items():\n",
        "    field[s] = v\n",
        "plt.axis('off')\n",
        "plt.imshow(field)\n",
        "plt.colorbar()\n",
        "plt.show()\n",
        "plt.close()"
      ],
      "metadata": {
        "id": "JU-p_Y0c3Seo"
      },
      "id": "JU-p_Y0c3Seo",
      "execution_count": null,
      "outputs": []
    },
    {
      "cell_type": "markdown",
      "source": [
        "Посмотрим на соответсвующую жадную стратегию."
      ],
      "metadata": {
        "id": "P9tNkAUEGpkv"
      },
      "id": "P9tNkAUEGpkv"
    },
    {
      "cell_type": "code",
      "source": [
        "policy = {}\n",
        "for s in env.get_all_states():\n",
        "    if env.get_possible_actions(s):\n",
        "        policy[s] = get_optimal_action(env, state_values, s, gamma)\n",
        "env.render_det_policy(policy)"
      ],
      "metadata": {
        "id": "ivFJDZwJGH14"
      },
      "id": "ivFJDZwJGH14",
      "execution_count": null,
      "outputs": []
    }
  ],
  "metadata": {
    "kernelspec": {
      "display_name": "mipt-rl-practice",
      "language": "python",
      "name": "python3"
    },
    "language_info": {
      "codemirror_mode": {
        "name": "ipython",
        "version": 3
      },
      "file_extension": ".py",
      "mimetype": "text/x-python",
      "name": "python",
      "nbconvert_exporter": "python",
      "pygments_lexer": "ipython3",
      "version": "3.9.16 (main, Mar  8 2023, 14:00:05) \n[GCC 11.2.0]"
    },
    "vscode": {
      "interpreter": {
        "hash": "f4f1d2d8cbda689bee08cb8d7fe5a19f770d75378302676f04af068af2c2973a"
      }
    },
    "colab": {
      "provenance": []
    }
  },
  "nbformat": 4,
  "nbformat_minor": 5
}